{
 "cells": [
  {
   "cell_type": "markdown",
   "metadata": {},
   "source": [
    "# 필기 한자 인식모델 구현 및 히라가나 변환\n",
    "# 모델 use"
   ]
  },
  {
   "cell_type": "markdown",
   "metadata": {},
   "source": [
    "<div style=\"text-align: right\"> 산업경영공학과 </div>\n",
    "<div style=\"text-align: right\"> 2018100922 </div>\n",
    "<div style=\"text-align: right\"> 이승건 </div>"
   ]
  },
  {
   "cell_type": "markdown",
   "metadata": {},
   "source": [
    "참고) 경로는 사용자 환경에 맞게 설정하여 사용하도록 함."
   ]
  },
  {
   "cell_type": "markdown",
   "metadata": {},
   "source": [
    "## Colab에서 드라이브 연동하기"
   ]
  },
  {
   "cell_type": "code",
   "execution_count": null,
   "metadata": {
    "colab": {
     "base_uri": "https://localhost:8080/"
    },
    "executionInfo": {
     "elapsed": 2773,
     "status": "ok",
     "timestamp": 1670404945722,
     "user": {
      "displayName": "‍이승건[학생](공과대학 산업경영공학과)",
      "userId": "07134745930762313936"
     },
     "user_tz": -540
    },
    "id": "n7vJhNYszsjl",
    "outputId": "29bae66b-e709-412f-9db2-211f86abb18e"
   },
   "outputs": [],
   "source": [
    "from google.colab import drive\n",
    "\n",
    "drive.mount('/content/gdrive')"
   ]
  },
  {
   "cell_type": "markdown",
   "metadata": {},
   "source": [
    "## 라이브러리"
   ]
  },
  {
   "cell_type": "code",
   "execution_count": null,
   "metadata": {
    "executionInfo": {
     "elapsed": 5,
     "status": "ok",
     "timestamp": 1670404945723,
     "user": {
      "displayName": "‍이승건[학생](공과대학 산업경영공학과)",
      "userId": "07134745930762313936"
     },
     "user_tz": -540
    },
    "id": "KQldF0AQZVjl"
   },
   "outputs": [],
   "source": [
    "import numpy as np\n",
    "from PIL import Image\n",
    "import matplotlib.pyplot as plt\n",
    "import pandas as pd"
   ]
  },
  {
   "cell_type": "markdown",
   "metadata": {},
   "source": [
    "## 데이터 불러오기"
   ]
  },
  {
   "cell_type": "code",
   "execution_count": null,
   "metadata": {
    "executionInfo": {
     "elapsed": 4,
     "status": "ok",
     "timestamp": 1670404945723,
     "user": {
      "displayName": "‍이승건[학생](공과대학 산업경영공학과)",
      "userId": "07134745930762313936"
     },
     "user_tz": -540
    },
    "id": "zVvUo7ph4_o8"
   },
   "outputs": [],
   "source": [
    "y_train = np.load('data/y_train.npy')\n",
    "y_train_char = np.load('data/y_train_char.npy')"
   ]
  },
  {
   "cell_type": "markdown",
   "metadata": {},
   "source": [
    "## jpg to array 함수"
   ]
  },
  {
   "cell_type": "code",
   "execution_count": null,
   "metadata": {
    "executionInfo": {
     "elapsed": 4,
     "status": "ok",
     "timestamp": 1670404945723,
     "user": {
      "displayName": "‍이승건[학생](공과대학 산업경영공학과)",
      "userId": "07134745930762313936"
     },
     "user_tz": -540
    },
    "id": "e5b5N82UNwig"
   },
   "outputs": [],
   "source": [
    "def jpg_image_to_array(image_path, size1, size2):\n",
    "  image = Image.open(image_path)\n",
    "  image = image.resize((size1, size2))\n",
    "  im_arr = np.fromstring(image.tobytes(), dtype = np.uint8)\n",
    "  print(im_arr.shape)\n",
    "  im_arr = im_arr.reshape((image.size[1], image.size[0], 3))\n",
    "  print(im_arr.shape)\n",
    "  im_arr = im_arr*(-1) + 255\n",
    "  return im_arr\n",
    "\n",
    "def image_array_to_1channel(arr):\n",
    "  arr_avg = (arr[:,:,0] + arr[:,:,1] + arr[:,:,2])/3\n",
    "  return arr_avg"
   ]
  },
  {
   "cell_type": "markdown",
   "metadata": {},
   "source": [
    "## 모델 불러오기"
   ]
  },
  {
   "cell_type": "code",
   "execution_count": null,
   "metadata": {
    "colab": {
     "base_uri": "https://localhost:8080/"
    },
    "executionInfo": {
     "elapsed": 24128,
     "status": "ok",
     "timestamp": 1670401813198,
     "user": {
      "displayName": "‍이승건[학생](공과대학 산업경영공학과)",
      "userId": "07134745930762313936"
     },
     "user_tz": -540
    },
    "id": "GbkjaxwNZmjU",
    "outputId": "c58e7c10-4fb3-4cd0-a5cd-d0d0004317d7"
   },
   "outputs": [],
   "source": [
    "from tensorflow.python.keras.models import load_model\n",
    "\n",
    "model = load_model(\"model/cnn_japanese_96_19.h5\")\n",
    "model.summary()"
   ]
  },
  {
   "cell_type": "markdown",
   "metadata": {
    "id": "zrKy8CpZvJhR"
   },
   "source": [
    "## japanese_use_firstname 내 데이터 예측하기"
   ]
  },
  {
   "cell_type": "code",
   "execution_count": null,
   "metadata": {
    "colab": {
     "base_uri": "https://localhost:8080/"
    },
    "executionInfo": {
     "elapsed": 800,
     "status": "ok",
     "timestamp": 1670404951029,
     "user": {
      "displayName": "‍이승건[학생](공과대학 산업경영공학과)",
      "userId": "07134745930762313936"
     },
     "user_tz": -540
    },
    "id": "4Ou5foA_vJhS",
    "outputId": "b23a5a10-d50d-473d-cd53-b13b76d36311"
   },
   "outputs": [],
   "source": [
    "import os\n",
    "dir = \"japanese_use_firstname\"\n",
    "subdir_names = os.listdir(dir)\n",
    "X_test = []\n",
    "y_test = []\n",
    "ignore_data = []\n",
    "predict_data = []\n",
    "#subdir_name = 폴더 단위\n",
    "for subdir_name in subdir_names:\n",
    "  count = 0\n",
    "  subdir = dir +\"/\" + subdir_name\n",
    "  predict_data_add = []\n",
    "  #file names 순서 오류 해결\n",
    "  file_names = os.listdir(subdir)\n",
    "  file_names_sort = []\n",
    "  for k in subdir_name:\n",
    "    if len(file_names) != 0:\n",
    "      index_sort = [i for i in range(len(file_names)) if k in file_names[i]]\n",
    "      file_names_sort.append(file_names[index_sort[0]])\n",
    "  #file_name = 파일단위\n",
    "  for file_name in file_names_sort:\n",
    "    if len(np.where(y_train_char ==  subdir_name[count])[0]) == 0:\n",
    "      ignore_data.append(subdir_name[count])\n",
    "    else:\n",
    "      path = subdir +\"/\" + file_name\n",
    "      print('filename:', file_name)\n",
    "      arr = jpg_image_to_array(path, 128, 127)\n",
    "      arr_1c = image_array_to_1channel(arr)\n",
    "      print(arr_1c.shape)\n",
    "      if len(X_test) == 0:\n",
    "        X_test = [arr_1c]\n",
    "        y_test = int(y_train[np.where(y_train_char ==  subdir_name[count])[0][0]])\n",
    "        predict_data_add.append(subdir_name[count])\n",
    "        print(subdir_name[count])\n",
    "      else:\n",
    "        X_test = np.concatenate((X_test, [arr_1c]))\n",
    "        y_test = np.append(y_test, int(y_train[np.where(y_train_char ==  subdir_name[count])[0][0]]))\n",
    "        predict_data_add.append(subdir_name[count])\n",
    "        print(subdir_name[count])\n",
    "    count += 1\n",
    "  if predict_data_add != []:\n",
    "    predict_data.append(predict_data_add)"
   ]
  },
  {
   "cell_type": "code",
   "execution_count": null,
   "metadata": {
    "colab": {
     "base_uri": "https://localhost:8080/",
     "height": 286
    },
    "executionInfo": {
     "elapsed": 399,
     "status": "ok",
     "timestamp": 1670403630403,
     "user": {
      "displayName": "‍이승건[학생](공과대학 산업경영공학과)",
      "userId": "07134745930762313936"
     },
     "user_tz": -540
    },
    "id": "EjVamVtcfB0P",
    "outputId": "4ea0c2cc-b138-457d-a2ba-d5112c7f546c"
   },
   "outputs": [],
   "source": [
    "first_image = X_test[5]\n",
    "first_image = np.array(first_image, dtype = 'float')\n",
    "#pixels = first_image.reshape((28,28))\n",
    "plt.imshow(first_image, cmap = 'gray')\n",
    "plt.show"
   ]
  },
  {
   "cell_type": "code",
   "execution_count": null,
   "metadata": {
    "colab": {
     "base_uri": "https://localhost:8080/"
    },
    "executionInfo": {
     "elapsed": 3,
     "status": "ok",
     "timestamp": 1670404954028,
     "user": {
      "displayName": "‍이승건[학생](공과대학 산업경영공학과)",
      "userId": "07134745930762313936"
     },
     "user_tz": -540
    },
    "id": "JXVzlzqRvJhT",
    "outputId": "f6607b45-ba1e-4e44-e906-4386b7efdc39"
   },
   "outputs": [],
   "source": [
    "print(X_test.shape)\n",
    "X_test = np.expand_dims(X_test, axis = -1)\n",
    "print(X_test.shape)"
   ]
  },
  {
   "cell_type": "code",
   "execution_count": null,
   "metadata": {
    "colab": {
     "base_uri": "https://localhost:8080/"
    },
    "executionInfo": {
     "elapsed": 2,
     "status": "ok",
     "timestamp": 1670404954622,
     "user": {
      "displayName": "‍이승건[학생](공과대학 산업경영공학과)",
      "userId": "07134745930762313936"
     },
     "user_tz": -540
    },
    "id": "g6z3CE-AvJhT",
    "outputId": "bb1a880b-5241-4a85-fb2a-0d832b6cdbf5"
   },
   "outputs": [],
   "source": [
    "#실제 값\n",
    "y_test"
   ]
  },
  {
   "cell_type": "code",
   "execution_count": null,
   "metadata": {
    "colab": {
     "base_uri": "https://localhost:8080/"
    },
    "executionInfo": {
     "elapsed": 2,
     "status": "ok",
     "timestamp": 1670404955439,
     "user": {
      "displayName": "‍이승건[학생](공과대학 산업경영공학과)",
      "userId": "07134745930762313936"
     },
     "user_tz": -540
    },
    "id": "k_WqWZXzvJhU",
    "outputId": "a0b36fae-1d82-4f9b-ab43-9206a4c5cbb3"
   },
   "outputs": [],
   "source": [
    "#예측 값\n",
    "y_pred = model.predict_classes(X_test)\n",
    "y_pred"
   ]
  },
  {
   "cell_type": "code",
   "execution_count": null,
   "metadata": {
    "colab": {
     "base_uri": "https://localhost:8080/"
    },
    "executionInfo": {
     "elapsed": 2,
     "status": "ok",
     "timestamp": 1670404955868,
     "user": {
      "displayName": "‍이승건[학생](공과대학 산업경영공학과)",
      "userId": "07134745930762313936"
     },
     "user_tz": -540
    },
    "id": "6M-foO25vJhU",
    "outputId": "70ff7530-ca01-4fad-955f-6d014033886a"
   },
   "outputs": [],
   "source": [
    "# 학습 모델에 없는 값\n",
    "ignore_data"
   ]
  },
  {
   "cell_type": "code",
   "execution_count": null,
   "metadata": {
    "colab": {
     "base_uri": "https://localhost:8080/"
    },
    "executionInfo": {
     "elapsed": 2,
     "status": "ok",
     "timestamp": 1670404956138,
     "user": {
      "displayName": "‍이승건[학생](공과대학 산업경영공학과)",
      "userId": "07134745930762313936"
     },
     "user_tz": -540
    },
    "id": "VvLVUlimvJhU",
    "outputId": "33c00444-295b-41cf-947a-63b2761d9423"
   },
   "outputs": [],
   "source": [
    "# 실제 값\n",
    "predict_data"
   ]
  },
  {
   "cell_type": "code",
   "execution_count": null,
   "metadata": {
    "executionInfo": {
     "elapsed": 2,
     "status": "ok",
     "timestamp": 1670404957374,
     "user": {
      "displayName": "‍이승건[학생](공과대학 산업경영공학과)",
      "userId": "07134745930762313936"
     },
     "user_tz": -540
    },
    "id": "TzEj67fDvJhU"
   },
   "outputs": [],
   "source": [
    "# 예측 값\n",
    "y_pred_add = []\n",
    "for i in range(len(y_pred)):\n",
    "  y_pred_add = np.append(y_pred_add, [y_train_char[np.where(y_train == y_pred[i])[0][0]][0]])\n",
    "y_pred_real = []\n",
    "y_pred_reshape = []\n",
    "len_y_pred = 0\n",
    "for i in predict_data:\n",
    "  y_pred_reshape = y_pred_add[len_y_pred:len_y_pred + len(i)]\n",
    "  len_y_pred += len(y_pred_reshape)\n",
    "  y_pred_real.append(y_pred_reshape)"
   ]
  },
  {
   "cell_type": "code",
   "execution_count": null,
   "metadata": {
    "colab": {
     "base_uri": "https://localhost:8080/"
    },
    "executionInfo": {
     "elapsed": 3,
     "status": "ok",
     "timestamp": 1670404958396,
     "user": {
      "displayName": "‍이승건[학생](공과대학 산업경영공학과)",
      "userId": "07134745930762313936"
     },
     "user_tz": -540
    },
    "id": "k5xnZXGrLcjo",
    "outputId": "f6e6acb1-0ba6-4b7b-bc9c-9298d62023ee"
   },
   "outputs": [],
   "source": [
    "#예측 값\n",
    "y_pred_real"
   ]
  },
  {
   "cell_type": "markdown",
   "metadata": {},
   "source": [
    "### 테스트 정확도 검증"
   ]
  },
  {
   "cell_type": "code",
   "execution_count": null,
   "metadata": {
    "colab": {
     "base_uri": "https://localhost:8080/"
    },
    "executionInfo": {
     "elapsed": 1177,
     "status": "ok",
     "timestamp": 1670404961828,
     "user": {
      "displayName": "‍이승건[학생](공과대학 산업경영공학과)",
      "userId": "07134745930762313936"
     },
     "user_tz": -540
    },
    "id": "PTnXs9TgvJhU",
    "outputId": "251b8cd8-dd6c-4044-9560-8e91faff766b"
   },
   "outputs": [],
   "source": [
    "from tensorflow.keras import utils\n",
    "y_binary = utils.to_categorical(y_test, 881)\n",
    "print(y_binary)\n",
    "\n",
    "score = model.evaluate(X_test, y_binary)  \n",
    "print('test_loss: ', score[0])\n",
    "print('test_acc: ', score[1])"
   ]
  },
  {
   "cell_type": "markdown",
   "metadata": {
    "id": "B-3Qc9DsnAD0"
   },
   "source": [
    "## 히라가나 변환"
   ]
  },
  {
   "cell_type": "markdown",
   "metadata": {
    "id": "EnXx5KdstINn"
   },
   "source": [
    "### 일본 성씨 데이터 crawling"
   ]
  },
  {
   "cell_type": "code",
   "execution_count": null,
   "metadata": {
    "executionInfo": {
     "elapsed": 736,
     "status": "ok",
     "timestamp": 1670404966156,
     "user": {
      "displayName": "‍이승건[학생](공과대학 산업경영공학과)",
      "userId": "07134745930762313936"
     },
     "user_tz": -540
    },
    "id": "9XpxN-pKm8z-"
   },
   "outputs": [],
   "source": [
    "df = pd.read_csv('japanese-family-names-master/myoji-yurai-readings.csv', names = ['name', 'reading', 'num', 'difficult'])"
   ]
  },
  {
   "cell_type": "code",
   "execution_count": null,
   "metadata": {
    "executionInfo": {
     "elapsed": 2,
     "status": "ok",
     "timestamp": 1670398033618,
     "user": {
      "displayName": "‍이승건[학생](공과대학 산업경영공학과)",
      "userId": "07134745930762313936"
     },
     "user_tz": -540
    },
    "id": "CjdntOEZ4AHA"
   },
   "outputs": [],
   "source": [
    "#pd.set_option('display.max_rows', None)"
   ]
  },
  {
   "cell_type": "code",
   "execution_count": null,
   "metadata": {
    "colab": {
     "base_uri": "https://localhost:8080/",
     "height": 423
    },
    "executionInfo": {
     "elapsed": 6,
     "status": "ok",
     "timestamp": 1670398034118,
     "user": {
      "displayName": "‍이승건[학생](공과대학 산업경영공학과)",
      "userId": "07134745930762313936"
     },
     "user_tz": -540
    },
    "id": "MVPr1WRHnOOX",
    "outputId": "1645c0b7-c870-4f1f-d0dc-44de608e2a98"
   },
   "outputs": [],
   "source": [
    "df"
   ]
  },
  {
   "cell_type": "code",
   "execution_count": null,
   "metadata": {
    "colab": {
     "base_uri": "https://localhost:8080/"
    },
    "executionInfo": {
     "elapsed": 395,
     "status": "ok",
     "timestamp": 1670404968621,
     "user": {
      "displayName": "‍이승건[학생](공과대학 산업경영공학과)",
      "userId": "07134745930762313936"
     },
     "user_tz": -540
    },
    "id": "oz4U0iHzM_7T",
    "outputId": "a06e4fe1-dda5-4f52-9226-357327e7188f"
   },
   "outputs": [],
   "source": [
    "predict_data"
   ]
  },
  {
   "cell_type": "code",
   "execution_count": null,
   "metadata": {
    "colab": {
     "base_uri": "https://localhost:8080/"
    },
    "executionInfo": {
     "elapsed": 7,
     "status": "ok",
     "timestamp": 1670404969076,
     "user": {
      "displayName": "‍이승건[학생](공과대학 산업경영공학과)",
      "userId": "07134745930762313936"
     },
     "user_tz": -540
    },
    "id": "BrA1-xLa-7mJ",
    "outputId": "e37c4222-3476-4515-f5c2-7e04296cf67f"
   },
   "outputs": [],
   "source": [
    "y_pred_real"
   ]
  },
  {
   "cell_type": "markdown",
   "metadata": {},
   "source": [
    "### 히라가나 변환 결과"
   ]
  },
  {
   "cell_type": "code",
   "execution_count": null,
   "metadata": {
    "colab": {
     "base_uri": "https://localhost:8080/"
    },
    "executionInfo": {
     "elapsed": 6,
     "status": "ok",
     "timestamp": 1670404969077,
     "user": {
      "displayName": "‍이승건[학생](공과대학 산업경영공학과)",
      "userId": "07134745930762313936"
     },
     "user_tz": -540
    },
    "id": "l_yJNKeOnUUM",
    "outputId": "0a6f34b3-88b0-46fe-acbc-b9871f7569f9"
   },
   "outputs": [],
   "source": [
    "for i in y_pred_real:\n",
    "  string_join = ''.join(i)\n",
    "  hiragana = df['reading'].values[df['name'] == string_join]\n",
    "  if hiragana.size == 0:\n",
    "    print(string_join, '=', \"학습 결과가 올바르지 않습니다.\")\n",
    "  else:\n",
    "    if '|' in hiragana[0]:\n",
    "      index = hiragana[0].find('|')\n",
    "      print(string_join, '=', hiragana[0][:index], '또는', hiragana[0][index+1:], '입니다.')\n",
    "    else:\n",
    "      print(string_join, '=', hiragana[0], '입니다.')"
   ]
  },
  {
   "cell_type": "code",
   "execution_count": null,
   "metadata": {
    "id": "s18iSz8Ve0BC"
   },
   "outputs": [],
   "source": []
  }
 ],
 "metadata": {
  "colab": {
   "authorship_tag": "ABX9TyNFwrQt3ndkE0SyBHGcLI6N",
   "collapsed_sections": [
    "Je3TAGir5HS_",
    "bu_qz9Ke0RG3"
   ],
   "provenance": [
    {
     "file_id": "19cNdTmC8ybWhfJAqlD9fWxZea4XmRmLh",
     "timestamp": 1670235242856
    }
   ]
  },
  "gpuClass": "standard",
  "kernelspec": {
   "display_name": "Python 3 (ipykernel)",
   "language": "python",
   "name": "python3"
  },
  "language_info": {
   "codemirror_mode": {
    "name": "ipython",
    "version": 3
   },
   "file_extension": ".py",
   "mimetype": "text/x-python",
   "name": "python",
   "nbconvert_exporter": "python",
   "pygments_lexer": "ipython3",
   "version": "3.9.12"
  }
 },
 "nbformat": 4,
 "nbformat_minor": 1
}
