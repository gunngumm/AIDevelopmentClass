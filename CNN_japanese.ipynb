{
 "cells": [
  {
   "cell_type": "markdown",
   "metadata": {},
   "source": [
    "# 필기 한자 인식모델 구현 및 히라가나 변환"
   ]
  },
  {
   "cell_type": "markdown",
   "metadata": {},
   "source": [
    "<div style=\"text-align: right\"> 산업경영공학과 </div>\n",
    "<div style=\"text-align: right\"> 2018100922 </div>\n",
    "<div style=\"text-align: right\"> 이승건 </div>"
   ]
  },
  {
   "cell_type": "markdown",
   "metadata": {},
   "source": [
    "참고) 경로는 사용자 환경에 맞게 설정하여 사용하도록 함."
   ]
  },
  {
   "cell_type": "markdown",
   "metadata": {},
   "source": [
    "## Colab에서 드라이브 연동하기"
   ]
  },
  {
   "cell_type": "code",
   "execution_count": null,
   "metadata": {
    "colab": {
     "base_uri": "https://localhost:8080/"
    },
    "executionInfo": {
     "elapsed": 4433,
     "status": "ok",
     "timestamp": 1670332601480,
     "user": {
      "displayName": "‍이승건[학생](공과대학 산업경영공학과)",
      "userId": "07134745930762313936"
     },
     "user_tz": -540
    },
    "id": "SypXhQ80A84F",
    "outputId": "fdcf287c-58ac-4e85-b3d9-2261d143c5e2",
    "scrolled": true
   },
   "outputs": [],
   "source": [
    "from google.colab import drive\n",
    "drive.mount('/content/gdrive')"
   ]
  },
  {
   "cell_type": "markdown",
   "metadata": {
    "id": "JbJMWJqE7Evd"
   },
   "source": [
    "## Colab에서 GPU 이용하기"
   ]
  },
  {
   "cell_type": "markdown",
   "metadata": {},
   "source": [
    "### 런타임 > 런타임 유형 변경 > GPU"
   ]
  },
  {
   "cell_type": "code",
   "execution_count": null,
   "metadata": {
    "colab": {
     "base_uri": "https://localhost:8080/"
    },
    "executionInfo": {
     "elapsed": 5294,
     "status": "ok",
     "timestamp": 1670332606768,
     "user": {
      "displayName": "‍이승건[학생](공과대학 산업경영공학과)",
      "userId": "07134745930762313936"
     },
     "user_tz": -540
    },
    "id": "0FSx4PVV6_ya",
    "outputId": "014f6c2b-a929-4e3a-942a-b8eadbc4b962"
   },
   "outputs": [],
   "source": [
    "%tensorflow_version 2.x\n",
    "import tensorflow as tf\n",
    "device_name = tf.test.gpu_device_name()\n",
    "if device_name != '/device:GPU:0':\n",
    "  raise SystemError('GPU device not found')\n",
    "print('Found GPU at: {}'.format(device_name))"
   ]
  },
  {
   "cell_type": "markdown",
   "metadata": {
    "id": "6ZvlUO33cb83"
   },
   "source": [
    "## 라이브러리"
   ]
  },
  {
   "cell_type": "code",
   "execution_count": null,
   "metadata": {},
   "outputs": [],
   "source": [
    "!pip install bitstring"
   ]
  },
  {
   "cell_type": "code",
   "execution_count": null,
   "metadata": {
    "executionInfo": {
     "elapsed": 6308,
     "status": "ok",
     "timestamp": 1670338210507,
     "user": {
      "displayName": "‍이승건[학생](공과대학 산업경영공학과)",
      "userId": "07134745930762313936"
     },
     "user_tz": -540
    },
    "id": "Qn1JGSt8Apof"
   },
   "outputs": [],
   "source": [
    "import os\n",
    "import time\n",
    "import math\n",
    "import re\n",
    "import struct\n",
    "import traceback\n",
    "import codecs\n",
    "\n",
    "import bitstring\n",
    "\n",
    "import numpy as np\n",
    "import matplotlib.pyplot as plt\n",
    "import cv2\n",
    "\n",
    "import tensorflow as tf\n",
    "from tensorflow.keras.datasets import mnist\n",
    "from tensorflow.keras import layers\n",
    "\n",
    "from PIL import Image\n",
    "import IPython.display as display\n",
    "\n",
    "from tensorflow.keras.datasets import cifar10\n",
    "from tensorflow.keras.models import Sequential\n",
    "from tensorflow.keras.layers import Conv2D,MaxPooling2D,Flatten,Dense,Dropout\n",
    "from tensorflow.keras.optimizers import Adam\n",
    "from tensorflow.keras import regularizers\n",
    "import time"
   ]
  },
  {
   "cell_type": "code",
   "execution_count": null,
   "metadata": {
    "executionInfo": {
     "elapsed": 7,
     "status": "ok",
     "timestamp": 1670338210508,
     "user": {
      "displayName": "‍이승건[학생](공과대학 산업경영공학과)",
      "userId": "07134745930762313936"
     },
     "user_tz": -540
    },
    "id": "pw4mXZH4uqPM"
   },
   "outputs": [],
   "source": [
    "#local library\n",
    "import sys\n",
    "sys.path.append('library')\n",
    "import shared\n",
    "from JIS0208 import JIS0208"
   ]
  },
  {
   "cell_type": "markdown",
   "metadata": {
    "id": "SDYgZ1IBhXT-"
   },
   "source": [
    "## ETL 파일 읽기"
   ]
  },
  {
   "cell_type": "code",
   "execution_count": null,
   "metadata": {
    "id": "CVd8Fd4eApog"
   },
   "outputs": [],
   "source": [
    "path = 'ETL/ETL8G/'"
   ]
  },
  {
   "cell_type": "code",
   "execution_count": null,
   "metadata": {
    "id": "S5fUmXyqApoh"
   },
   "outputs": [],
   "source": [
    "file_list = [\n",
    "    'ETL8G_01',\n",
    "    'ETL8G_02',\n",
    "    'ETL8G_03',\n",
    "    'ETL8G_04',\n",
    "    'ETL8G_05',\n",
    "    'ETL8G_06',\n",
    "    'ETL8G_07',\n",
    "    'ETL8G_08',\n",
    "    'ETL8G_09',\n",
    "    'ETL8G_10',\n",
    "    'ETL8G_11',\n",
    "    'ETL8G_12',\n",
    "    'ETL8G_13',\n",
    "    'ETL8G_14',\n",
    "    'ETL8G_15',\n",
    "    'ETL8G_16',\n",
    "    'ETL8G_17',\n",
    "    'ETL8G_18',\n",
    "    'ETL8G_19',\n",
    "    'ETL8G_20',\n",
    "    'ETL8G_21',\n",
    "    'ETL8G_22',\n",
    "    'ETL8G_23',\n",
    "    'ETL8G_24',\n",
    "    'ETL8G_25',\n",
    "    'ETL8G_26',\n",
    "    'ETL8G_27',\n",
    "    'ETL8G_28',\n",
    "    'ETL8G_29',\n",
    "    'ETL8G_30',\n",
    "    'ETL8G_31',\n",
    "    'ETL8G_32',\n",
    "    'ETL8G_33',\n",
    "]"
   ]
  },
  {
   "cell_type": "markdown",
   "metadata": {
    "id": "prF_K7NNiMI_"
   },
   "source": [
    "### 읽음 확인하기"
   ]
  },
  {
   "cell_type": "code",
   "execution_count": null,
   "metadata": {
    "colab": {
     "base_uri": "https://localhost:8080/"
    },
    "executionInfo": {
     "elapsed": 416,
     "status": "ok",
     "timestamp": 1669799359990,
     "user": {
      "displayName": "‍이승건[학생](공과대학 산업경영공학과)",
      "userId": "07134745930762313936"
     },
     "user_tz": -540
    },
    "id": "Qen0LTaMApoh",
    "outputId": "09b69557-311d-4a73-8a46-13ae040b5989"
   },
   "outputs": [],
   "source": [
    "filename = file_list[0]\n",
    "print(filename)\n",
    "file_stream = bitstring.ConstBitStream(filename= path + filename)"
   ]
  },
  {
   "cell_type": "code",
   "execution_count": null,
   "metadata": {
    "id": "Rz_YienUApoi"
   },
   "outputs": [],
   "source": [
    "record = file_stream.readlist(','.join([\n",
    "    'int:16', # Serial Sheet Number - [0]\n",
    "    'uint:16', # JIS Character Code (JIS X 0208) - [1]\n",
    "    '8*uint:8', # JIS Typical Reading (e.g. 'AI.MEDER') - [2:10]\n",
    "    'int:32', # Serial Data Number - [10]\n",
    "    '4*int:8', # - [11:15]\n",
    "    '4*uint:16', # - [15:19]\n",
    "    '2*int:8', # x and y - [19:21]\n",
    "    'pad:240',\n",
    "    'bytes:8128', # 16-graylevel (4-bit) image of 128 x 127 = 16256 pixels\n",
    "    'pad:88',\n",
    "]))"
   ]
  },
  {
   "cell_type": "code",
   "execution_count": null,
   "metadata": {
    "colab": {
     "base_uri": "https://localhost:8080/"
    },
    "executionInfo": {
     "elapsed": 2,
     "status": "ok",
     "timestamp": 1669799217371,
     "user": {
      "displayName": "‍이승건[학생](공과대학 산업경영공학과)",
      "userId": "07134745930762313936"
     },
     "user_tz": -540
    },
    "id": "nBJffu3hzoH1",
    "outputId": "3a25c84c-347a-44a1-d7f3-906cb8ce788a"
   },
   "outputs": [],
   "source": [
    "print(type(record), len(record))\n",
    "for idx, v in enumerate(record[:-1]):\n",
    "    print(f'{idx} - {v}')"
   ]
  },
  {
   "cell_type": "code",
   "execution_count": null,
   "metadata": {
    "id": "SRx26YEgzoH1"
   },
   "outputs": [],
   "source": [
    "record_dict = {\n",
    "    'JIS_CODE': record[1],\n",
    "    'image_data': record[-1]\n",
    "}"
   ]
  },
  {
   "cell_type": "code",
   "execution_count": null,
   "metadata": {
    "colab": {
     "base_uri": "https://localhost:8080/",
     "height": 35
    },
    "executionInfo": {
     "elapsed": 4,
     "status": "ok",
     "timestamp": 1669799219523,
     "user": {
      "displayName": "‍이승건[학생](공과대학 산업경영공학과)",
      "userId": "07134745930762313936"
     },
     "user_tz": -540
    },
    "id": "MnJsYz5-zoH1",
    "outputId": "22477b0a-8110-40c0-eca6-fc9be6d56ecf"
   },
   "outputs": [],
   "source": [
    "hex(record_dict['JIS_CODE'])"
   ]
  },
  {
   "cell_type": "code",
   "execution_count": null,
   "metadata": {
    "colab": {
     "base_uri": "https://localhost:8080/",
     "height": 287
    },
    "executionInfo": {
     "elapsed": 598,
     "status": "ok",
     "timestamp": 1669799221757,
     "user": {
      "displayName": "‍이승건[학생](공과대학 산업경영공학과)",
      "userId": "07134745930762313936"
     },
     "user_tz": -540
    },
    "id": "UF5Kl-3zzoH1",
    "outputId": "d5330799-2ec9-4769-99fa-b96a3b991c41"
   },
   "outputs": [],
   "source": [
    "width = 128\n",
    "height = 127\n",
    "img = np.array(Image.frombytes('F', (width, height), record_dict['image_data'], 'bit', 4))\n",
    "plt.imshow(img)\n",
    "plt.colorbar()"
   ]
  },
  {
   "cell_type": "markdown",
   "metadata": {
    "id": "qHFKFka0daPR"
   },
   "source": [
    "## X 데이터 추출"
   ]
  },
  {
   "cell_type": "markdown",
   "metadata": {},
   "source": [
    "### 메모리 문제로 나눠서 추출 후 합침 "
   ]
  },
  {
   "cell_type": "code",
   "execution_count": null,
   "metadata": {
    "colab": {
     "base_uri": "https://localhost:8080/"
    },
    "executionInfo": {
     "elapsed": 273596,
     "status": "ok",
     "timestamp": 1669978099973,
     "user": {
      "displayName": "‍이승건[학생](공과대학 산업경영공학과)",
      "userId": "07134745930762313936"
     },
     "user_tz": -540
    },
    "id": "PrkLD11EApol",
    "outputId": "cd6a33fa-8b7c-48ff-f2d3-345a56f2a5ab"
   },
   "outputs": [],
   "source": [
    "with tf.device('/device:GPU:0'):\n",
    "  total_samples = 0\n",
    "  record_count = {}\n",
    "\n",
    "  for filename in file_list:\n",
    "      file_stream = bitstring.ConstBitStream(filename=path + filename)\n",
    "\n",
    "      while True:\n",
    "          try:\n",
    "              record = file_stream.readlist(','.join([\n",
    "                  'int:16', # Serial Sheet Number - [0]\n",
    "                  'uint:16', # JIS Character Code (JIS X 0208) - [1]\n",
    "                  '8*uint:8', # JIS Typical Reading (e.g. 'AI.MEDER') - [2:10]\n",
    "                  'int:32', # Serial Data Number - [10]\n",
    "                  '4*int:8', # - [11:15]\n",
    "                  '4*uint:16', # - [15:19]\n",
    "                  '2*int:8', # x and y - [19:21]\n",
    "                  'pad:240',\n",
    "                  'bytes:8128', # 16-graylevel (4-bit) image of 128 x 127 = 16256 pixels\n",
    "                  'pad:88',\n",
    "              ]))\n",
    "          except:\n",
    "              break\n",
    "          \n",
    "          total_samples += 1\n",
    "          record_dict = {\n",
    "              'JIS_CODE': record[1],\n",
    "              'image_data': record[-1],\n",
    "          }\n",
    "          #합하는 부분 오류\n",
    "          width = 128\n",
    "          height = 127\n",
    "          img = np.array(Image.frombytes('F', (width, height), record_dict['image_data'], 'bit', 4))\n",
    "          scaled_img = (img * 17).astype(np.uint8)\n",
    "\n",
    "          scaled_img_3 = scaled_img.reshape((1, *scaled_img.shape))\n",
    "\n",
    "\n",
    "          if total_samples <= 10000:\n",
    "            if total_samples == 1:\n",
    "              x_train_1 = scaled_img_3.copy()\n",
    "            else:\n",
    "              print(x_train_1.shape)\n",
    "              x_train_1 = np.append(x_train_1, scaled_img_3, axis = 0)\n",
    "\n",
    "          elif total_samples <= 20000:\n",
    "            if total_samples == 10001:\n",
    "              x_train_2 = scaled_img_3.copy()\n",
    "            else:\n",
    "              print(x_train_2.shape)\n",
    "              x_train_2 = np.append(x_train_2, scaled_img_3, axis = 0)\n",
    "\n",
    "          elif total_samples <= 30000:\n",
    "            if total_samples == 20001:\n",
    "              x_train_3 = scaled_img_3.copy()\n",
    "            else:\n",
    "              print(x_train_3.shape)\n",
    "              x_train_3 = np.append(x_train_3, scaled_img_3, axis = 0)\n",
    "              \n",
    "          elif total_samples <= 40000:\n",
    "            if total_samples == 30001:\n",
    "              x_train_4 = scaled_img_3.copy()\n",
    "            else:\n",
    "              print(x_train_4.shape)\n",
    "              x_train_4 = np.append(x_train_4, scaled_img_3, axis = 0)\n",
    "\n",
    "          elif total_samples <= 50000:\n",
    "            if total_samples == 40001:\n",
    "              x_train_5 = scaled_img_3.copy()\n",
    "            else:\n",
    "              print(x_train_5.shape)\n",
    "              x_train_5 = np.append(x_train_5, scaled_img_3, axis = 0)\n",
    "\n",
    "          elif total_samples <= 60000:\n",
    "            if total_samples == 50001:\n",
    "              x_train_6 = scaled_img_3.copy()\n",
    "            else:\n",
    "              print(x_train_6.shape)\n",
    "              x_train_6 = np.append(x_train_6, scaled_img_3, axis = 0)\n",
    "              \n",
    "          elif total_samples <= 70000:\n",
    "            if total_samples == 60001:\n",
    "              x_train_7 = scaled_img_3.copy()\n",
    "            else:\n",
    "              print(x_train_7.shape)\n",
    "              x_train_7 = np.append(x_train_7, scaled_img_3, axis = 0)\n",
    "\n",
    "          elif total_samples <= 80000:\n",
    "            if total_samples == 70001:\n",
    "              x_train_8 = scaled_img_3.copy()\n",
    "            else:\n",
    "              print(x_train_8.shape)\n",
    "              x_train_8 = np.append(x_train_8, scaled_img_3, axis = 0)\n",
    "\n",
    "          elif total_samples <= 90000:\n",
    "            if total_samples == 80001:\n",
    "              x_train_9 = scaled_img_3.copy()\n",
    "            else:\n",
    "              print(x_train_9.shape)\n",
    "              x_train_9 = np.append(x_train_9, scaled_img_3, axis = 0)\n",
    "              \n",
    "          elif total_samples <= 100000:\n",
    "            if total_samples == 90001:\n",
    "              x_train_10 = scaled_img_3.copy()\n",
    "            else:\n",
    "              print(x_train_10.shape)\n",
    "              x_train_10 = np.append(x_train_10, scaled_img_3, axis = 0)\n",
    "\n",
    "          elif total_samples <= 110000:\n",
    "            if total_samples == 100001:\n",
    "              x_train_11 = scaled_img_3.copy()\n",
    "            else:\n",
    "              print(x_train_11.shape)\n",
    "              x_train_11 = np.append(x_train_11, scaled_img_3, axis = 0)\n",
    "\n",
    "          elif total_samples <= 120000:\n",
    "            if total_samples == 110001:\n",
    "              x_train_12 = scaled_img_3.copy()\n",
    "            else:\n",
    "              print(x_train_12.shape)\n",
    "              x_train_12 = np.append(x_train_12, scaled_img_3, axis = 0)\n",
    "              \n",
    "          elif total_samples <= 130000:\n",
    "            if total_samples == 120001:\n",
    "              x_train_13 = scaled_img_3.copy()\n",
    "            else:\n",
    "              print(x_train_13.shape)\n",
    "              x_train_13 = np.append(x_train_13, scaled_img_3, axis = 0)\n",
    "\n",
    "          elif total_samples <= 140000:\n",
    "            if total_samples == 130001:\n",
    "              x_train_14 = scaled_img_3.copy()\n",
    "            else:\n",
    "              print(x_train_14.shape)\n",
    "              x_train_14 = np.append(x_train_14, scaled_img_3, axis = 0)\n",
    "\n",
    "          elif total_samples <= 150000:\n",
    "            if total_samples == 140001:\n",
    "              x_train_15 = scaled_img_3.copy()\n",
    "            else:\n",
    "              print(x_train_15.shape)\n",
    "              x_train_15 = np.append(x_train_15, scaled_img_3, axis = 0)\n",
    "\n",
    "          elif total_samples <= 160000:\n",
    "            if total_samples == 150001:\n",
    "              x_train_16 = scaled_img_3.copy()\n",
    "            else:\n",
    "              print(x_train_16.shape)\n",
    "              x_train_16 = np.append(x_train_16, scaled_img_3, axis = 0)\n",
    "              \n",
    "\n",
    "          \n",
    "          name = hex(record_dict['JIS_CODE'])\n",
    "          if name in record_count.keys():\n",
    "              record_count[name] += 1\n",
    "          else:\n",
    "              record_count[name] = 1"
   ]
  },
  {
   "cell_type": "code",
   "execution_count": null,
   "metadata": {
    "colab": {
     "base_uri": "https://localhost:8080/"
    },
    "executionInfo": {
     "elapsed": 24,
     "status": "ok",
     "timestamp": 1669875962863,
     "user": {
      "displayName": "‍이승건[학생](공과대학 산업경영공학과)",
      "userId": "07134745930762313936"
     },
     "user_tz": -540
    },
    "id": "vWkenYoleNCZ",
    "outputId": "8f9b8ce0-3dc6-4fcf-d01e-13bee7960866"
   },
   "outputs": [],
   "source": [
    "total_samples"
   ]
  },
  {
   "cell_type": "code",
   "execution_count": null,
   "metadata": {
    "colab": {
     "base_uri": "https://localhost:8080/"
    },
    "executionInfo": {
     "elapsed": 21,
     "status": "ok",
     "timestamp": 1669875962865,
     "user": {
      "displayName": "‍이승건[학생](공과대학 산업경영공학과)",
      "userId": "07134745930762313936"
     },
     "user_tz": -540
    },
    "id": "X89VUMzFeNCa",
    "outputId": "b6c9cf44-f45a-4554-ba9c-2f716bdf7982"
   },
   "outputs": [],
   "source": [
    "len(record_count.keys())"
   ]
  },
  {
   "cell_type": "code",
   "execution_count": null,
   "metadata": {
    "id": "IldzfO5teNCb"
   },
   "outputs": [],
   "source": [
    "record_count"
   ]
  },
  {
   "cell_type": "code",
   "execution_count": null,
   "metadata": {
    "colab": {
     "base_uri": "https://localhost:8080/",
     "height": 284
    },
    "executionInfo": {
     "elapsed": 12,
     "status": "ok",
     "timestamp": 1669978230844,
     "user": {
      "displayName": "‍이승건[학생](공과대학 산업경영공학과)",
      "userId": "07134745930762313936"
     },
     "user_tz": -540
    },
    "id": "Cu3WFU-VdMPo",
    "outputId": "9f3f4979-ca36-4bf2-abec-aed19798260c"
   },
   "outputs": [],
   "source": [
    "first_image = x_train_1[1]\n",
    "first_image = np.array(first_image, dtype = 'float')\n",
    "pixels = first_image.reshape((32,32))\n",
    "plt.imshow(pixels, cmap = 'gray')\n",
    "plt.show"
   ]
  },
  {
   "cell_type": "markdown",
   "metadata": {
    "id": "YAMuxHnleSUc"
   },
   "source": [
    "### 데이터 합치기"
   ]
  },
  {
   "cell_type": "code",
   "execution_count": null,
   "metadata": {
    "id": "1PsybD_5AjhZ"
   },
   "outputs": [],
   "source": [
    "x_train_011 = np.append(x_train_1, x_train_2, axis = 0)\n",
    "x_train_012 = np.append(x_train_3, x_train_4, axis = 0)\n",
    "x_train_013 = np.append(x_train_5, x_train_6, axis = 0)\n",
    "x_train_014 = np.append(x_train_7, x_train_8, axis = 0)\n",
    "x_train_015 = np.append(x_train_9, x_train_10, axis = 0)\n",
    "x_train_016 = np.append(x_train_11, x_train_12, axis = 0)\n",
    "x_train_017 = np.append(x_train_13, x_train_14, axis = 0)\n",
    "x_train_018 = np.append(x_train_15, x_train_16, axis = 0)"
   ]
  },
  {
   "cell_type": "code",
   "execution_count": null,
   "metadata": {
    "colab": {
     "base_uri": "https://localhost:8080/"
    },
    "executionInfo": {
     "elapsed": 14,
     "status": "ok",
     "timestamp": 1669794511254,
     "user": {
      "displayName": "‍이승건[학생](공과대학 산업경영공학과)",
      "userId": "07134745930762313936"
     },
     "user_tz": -540
    },
    "id": "CZD-LTIjV-8H",
    "outputId": "b71c9ccc-823a-42fc-a628-b4e1c61497d6"
   },
   "outputs": [],
   "source": [
    "print(x_train_011.shape)\n",
    "print(x_train_012.shape)\n",
    "print(x_train_013.shape)\n",
    "print(x_train_014.shape)\n",
    "print(x_train_015.shape)\n",
    "print(x_train_016.shape)\n",
    "print(x_train_017.shape)\n",
    "print(x_train_018.shape)"
   ]
  },
  {
   "cell_type": "code",
   "execution_count": null,
   "metadata": {
    "id": "Ke29-A3eWDKl"
   },
   "outputs": [],
   "source": [
    "x_train_0011 = np.append(x_train_011, x_train_012, axis = 0)\n",
    "x_train_0012 = np.append(x_train_013, x_train_014, axis = 0)\n",
    "x_train_0013 = np.append(x_train_015, x_train_016, axis = 0)\n",
    "x_train_0014 = np.append(x_train_017, x_train_018, axis = 0)"
   ]
  },
  {
   "cell_type": "code",
   "execution_count": null,
   "metadata": {
    "colab": {
     "base_uri": "https://localhost:8080/"
    },
    "executionInfo": {
     "elapsed": 15,
     "status": "ok",
     "timestamp": 1669794519895,
     "user": {
      "displayName": "‍이승건[학생](공과대학 산업경영공학과)",
      "userId": "07134745930762313936"
     },
     "user_tz": -540
    },
    "id": "vEfQkIYYYfpP",
    "outputId": "3c486f17-5fa2-460c-f93f-53df7fe3fb4e"
   },
   "outputs": [],
   "source": [
    "print(x_train_0011.shape)\n",
    "print(x_train_0012.shape)\n",
    "print(x_train_0013.shape)\n",
    "print(x_train_0014.shape)"
   ]
  },
  {
   "cell_type": "code",
   "execution_count": null,
   "metadata": {
    "id": "0t5WSb3CfsVa"
   },
   "outputs": [],
   "source": [
    "x_train_00011 = np.append(x_train_0011, x_train_0012, axis = 0)\n",
    "x_train_00012 = np.append(x_train_0013, x_train_0014, axis = 0)"
   ]
  },
  {
   "cell_type": "code",
   "execution_count": null,
   "metadata": {
    "colab": {
     "base_uri": "https://localhost:8080/"
    },
    "executionInfo": {
     "elapsed": 13,
     "status": "ok",
     "timestamp": 1669794528843,
     "user": {
      "displayName": "‍이승건[학생](공과대학 산업경영공학과)",
      "userId": "07134745930762313936"
     },
     "user_tz": -540
    },
    "id": "pY1YRbnIfzN6",
    "outputId": "b2e700ed-4aa3-47ef-84f4-18e69395439d"
   },
   "outputs": [],
   "source": [
    "print(x_train_00011.shape)\n",
    "print(x_train_00012.shape)"
   ]
  },
  {
   "cell_type": "code",
   "execution_count": null,
   "metadata": {
    "id": "kvGp27WOf1GK"
   },
   "outputs": [],
   "source": [
    "x_train = np.append(x_train_00011, x_train_00012, axis = 0)"
   ]
  },
  {
   "cell_type": "code",
   "execution_count": null,
   "metadata": {
    "colab": {
     "base_uri": "https://localhost:8080/"
    },
    "executionInfo": {
     "elapsed": 433,
     "status": "ok",
     "timestamp": 1669794825714,
     "user": {
      "displayName": "‍이승건[학생](공과대학 산업경영공학과)",
      "userId": "07134745930762313936"
     },
     "user_tz": -540
    },
    "id": "ZN3_9D1Mf76F",
    "outputId": "9b94934d-6655-45cc-96c7-6783d210bcc7"
   },
   "outputs": [],
   "source": [
    "print(x_train.shape)"
   ]
  },
  {
   "cell_type": "markdown",
   "metadata": {
    "id": "FSSiSKl4yEQG"
   },
   "source": [
    "## Y 추출"
   ]
  },
  {
   "cell_type": "markdown",
   "metadata": {},
   "source": [
    "### y_char (문자 list) 추출"
   ]
  },
  {
   "cell_type": "code",
   "execution_count": null,
   "metadata": {
    "colab": {
     "base_uri": "https://localhost:8080/"
    },
    "executionInfo": {
     "elapsed": 427520,
     "status": "ok",
     "timestamp": 1669801586307,
     "user": {
      "displayName": "‍이승건[학생](공과대학 산업경영공학과)",
      "userId": "07134745930762313936"
     },
     "user_tz": -540
    },
    "id": "RZsJEEHPzlhV",
    "outputId": "fe140253-3d6c-459b-e7ac-2781fef6c07c"
   },
   "outputs": [],
   "source": [
    "with tf.device('/device:GPU:0'):\n",
    "  total_samples = 0\n",
    "  record_count = {}\n",
    "  \n",
    "  y_train_char = np.array([])\n",
    "  \n",
    "  for filename in file_list:\n",
    "      file_stream = bitstring.ConstBitStream(filename=path + filename)\n",
    "\n",
    "      while True:\n",
    "          try:\n",
    "              record = file_stream.readlist(','.  join([\n",
    "                  'int:16', # Serial Sheet Number - [0]\n",
    "                  'uint:16', # JIS Character Code (JIS X 0208) - [1]\n",
    "                  '8*uint:8', # JIS Typical Reading (e.g. 'AI.MEDER') - [2:10]\n",
    "                  'int:32', # Serial Data Number - [10]\n",
    "                  '4*int:8', # - [11:15]\n",
    "                  '4*uint:16', # - [15:19]\n",
    "                  '2*int:8', # x and y - [19:21]\n",
    "                  'pad:240',\n",
    "                  'bytes:8128', # 16-graylevel (4-bit) image of 128 x 127 = 16256 pixels\n",
    "                  'pad:88',\n",
    "              ]))\n",
    "          except:\n",
    "              break\n",
    "          \n",
    "          total_samples += 1\n",
    "          record_dict = {\n",
    "              'JIS_CODE': record[1],\n",
    "              'image_data': record[-1],\n",
    "          }\n",
    "          \n",
    "          if record_dict['JIS_CODE'] in JIS0208:\n",
    "              unicode_char =   JIS0208[record_dict['JIS_CODE']]\n",
    "\n",
    "          print(y_train_char.shape)\n",
    "          y_train_char = np.append(y_train_char, [unicode_char])"
   ]
  },
  {
   "cell_type": "markdown",
   "metadata": {},
   "source": [
    "### y (serial number) 추출"
   ]
  },
  {
   "cell_type": "code",
   "execution_count": null,
   "metadata": {
    "colab": {
     "base_uri": "https://localhost:8080/"
    },
    "executionInfo": {
     "elapsed": 235010,
     "status": "ok",
     "timestamp": 1669877288020,
     "user": {
      "displayName": "‍이승건[학생](공과대학 산업경영공학과)",
      "userId": "07134745930762313936"
     },
     "user_tz": -540
    },
    "id": "zkKYO7tjUBTY",
    "outputId": "533efaec-b6db-4c7e-f943-bbba11336ff6"
   },
   "outputs": [],
   "source": [
    "with tf.device('/device:GPU:0'):\n",
    "  total_samples = 0\n",
    "  record_count = {}\n",
    "  \n",
    "  y_train = np.array([])\n",
    "  \n",
    "  for filename in file_list:\n",
    "      file_stream = bitstring.ConstBitStream(filename=path + filename)\n",
    "\n",
    "      while True:\n",
    "          try:\n",
    "              record = file_stream.readlist(','.  join([\n",
    "                  'int:16', # Serial Sheet Number - [0]\n",
    "                  'uint:16', # JIS Character Code (JIS X 0208) - [1]\n",
    "                  '8*uint:8', # JIS Typical Reading (e.g. 'AI.MEDER') - [2:10]\n",
    "                  'int:32', # Serial Data Number - [10]\n",
    "                  '4*int:8', # - [11:15]\n",
    "                  '4*uint:16', # - [15:19]\n",
    "                  '2*int:8', # x and y - [19:21]\n",
    "                  'pad:240',\n",
    "                  'bytes:8128', # 16-graylevel (4-bit) image of 128 x 127 = 16256 pixels\n",
    "                  'pad:88',\n",
    "              ]))\n",
    "          except:\n",
    "              break\n",
    "          \n",
    "          total_samples += 1\n",
    "          record_dict = {\n",
    "              'JIS_CODE': record[1],\n",
    "              'image_data': record[-1],\n",
    "          }\n",
    "\n",
    "          print(y_train.shape)\n",
    "          y_train = np.append(y_train, [record[1]])"
   ]
  },
  {
   "cell_type": "markdown",
   "metadata": {
    "id": "2A4SUn_u22e_"
   },
   "source": [
    "## train : test 나누기"
   ]
  },
  {
   "cell_type": "markdown",
   "metadata": {},
   "source": [
    "### 111 : 50 로 test 추출"
   ]
  },
  {
   "cell_type": "code",
   "execution_count": null,
   "metadata": {
    "colab": {
     "base_uri": "https://localhost:8080/"
    },
    "executionInfo": {
     "elapsed": 3,
     "status": "ok",
     "timestamp": 1669883802822,
     "user": {
      "displayName": "‍이승건[학생](공과대학 산업경영공학과)",
      "userId": "07134745930762313936"
     },
     "user_tz": -540
    },
    "id": "4SS_0YI-s91K",
    "outputId": "4f37af26-4ed1-409d-ea54-8921eb9712c5"
   },
   "outputs": [],
   "source": [
    "len(np.unique(y_train))"
   ]
  },
  {
   "cell_type": "code",
   "execution_count": null,
   "metadata": {
    "id": "jUIwThgd1WAp"
   },
   "outputs": [],
   "source": [
    "y_train_unique = np.unique(y_train)"
   ]
  },
  {
   "cell_type": "code",
   "execution_count": null,
   "metadata": {
    "colab": {
     "base_uri": "https://localhost:8080/"
    },
    "executionInfo": {
     "elapsed": 5,
     "status": "ok",
     "timestamp": 1669884353467,
     "user": {
      "displayName": "‍이승건[학생](공과대학 산업경영공학과)",
      "userId": "07134745930762313936"
     },
     "user_tz": -540
    },
    "id": "JCwZPFW21Y2X",
    "outputId": "546a05e2-2907-447c-e87c-745df5797de0"
   },
   "outputs": [],
   "source": [
    "y_train_unique"
   ]
  },
  {
   "cell_type": "code",
   "execution_count": null,
   "metadata": {
    "id": "l6VtmPLI1b3g"
   },
   "outputs": [],
   "source": [
    "a = np.where(y_train == y_train_unique[0])"
   ]
  },
  {
   "cell_type": "code",
   "execution_count": null,
   "metadata": {
    "colab": {
     "base_uri": "https://localhost:8080/"
    },
    "executionInfo": {
     "elapsed": 148552,
     "status": "ok",
     "timestamp": 1669886285976,
     "user": {
      "displayName": "‍이승건[학생](공과대학 산업경영공학과)",
      "userId": "07134745930762313936"
     },
     "user_tz": -540
    },
    "id": "hpC6uqx63ASb",
    "outputId": "356c98b6-dba9-49b8-d72e-b74295eae9ef"
   },
   "outputs": [],
   "source": [
    "x_test = np.array([])\n",
    "y_test = np.array([])\n",
    "f = 0\n",
    "for i in range(len(y_train_unique)):\n",
    "  find_list = np.where(y_train == y_train_unique[i])\n",
    "  t = 0\n",
    "  for j in range(len(find_list[0])):\n",
    "    if t < 50:\n",
    "      #y_test 분배 50개\n",
    "      y_test = np.append(y_test, [y_train_unique[i]])\n",
    "\n",
    "\n",
    "      #x_test 분배 50개\n",
    "      find_x_list = x_train[find_list[0][j]]\n",
    "      find_x_list_3 = find_x_list.reshape((1, *find_x_list.shape))\n",
    "      if t == 0:\n",
    "        x_test_mid = find_x_list_3.copy()\n",
    "      else:\n",
    "        x_test_mid = np.append(x_test_mid, find_x_list_3, axis = 0)\n",
    "\n",
    "\n",
    "\n",
    "    t+=1\n",
    "\n",
    "  if f == 0:\n",
    "    x_test = x_test_mid.copy()\n",
    "    f+=1\n",
    "  else:\n",
    "    print(x_test.shape)\n",
    "    x_test = np.append(x_test, x_test_mid, axis = 0)"
   ]
  },
  {
   "cell_type": "code",
   "execution_count": null,
   "metadata": {
    "colab": {
     "base_uri": "https://localhost:8080/"
    },
    "executionInfo": {
     "elapsed": 259,
     "status": "ok",
     "timestamp": 1669886289467,
     "user": {
      "displayName": "‍이승건[학생](공과대학 산업경영공학과)",
      "userId": "07134745930762313936"
     },
     "user_tz": -540
    },
    "id": "Vfqb4dva3AQU",
    "outputId": "08d9da9a-108f-4591-d7b4-28274c78da89"
   },
   "outputs": [],
   "source": [
    "x_test.shape"
   ]
  },
  {
   "cell_type": "code",
   "execution_count": null,
   "metadata": {
    "colab": {
     "base_uri": "https://localhost:8080/"
    },
    "executionInfo": {
     "elapsed": 2,
     "status": "ok",
     "timestamp": 1669886289726,
     "user": {
      "displayName": "‍이승건[학생](공과대학 산업경영공학과)",
      "userId": "07134745930762313936"
     },
     "user_tz": -540
    },
    "id": "eVRE717b3ANN",
    "outputId": "9e4c67bf-4574-41e5-b707-16ef6a113141"
   },
   "outputs": [],
   "source": [
    "y_test.shape"
   ]
  },
  {
   "cell_type": "markdown",
   "metadata": {
    "id": "Iai5mQdkCde5"
   },
   "source": [
    "### train에서 test 값 삭제"
   ]
  },
  {
   "cell_type": "code",
   "execution_count": null,
   "metadata": {
    "id": "DNLl0u1nJVpr"
   },
   "outputs": [],
   "source": [
    "x_train = np.delete(x_train, np.s_[0:47800], axis = 0)\n",
    "y_train = np.delete(y_train, np.s_[0:47800], axis = 0)\n",
    "y_train_char = np.delete(y_char, np.s_[0:47800], axis = 0)"
   ]
  },
  {
   "cell_type": "code",
   "execution_count": null,
   "metadata": {
    "colab": {
     "base_uri": "https://localhost:8080/"
    },
    "executionInfo": {
     "elapsed": 298,
     "status": "ok",
     "timestamp": 1669890100976,
     "user": {
      "displayName": "‍이승건[학생](공과대학 산업경영공학과)",
      "userId": "07134745930762313936"
     },
     "user_tz": -540
    },
    "id": "BXq3Ak-TDZtW",
    "outputId": "8c1de856-f91e-4a21-e82d-5c115c4f15ae"
   },
   "outputs": [],
   "source": [
    "print(y_train.shape)\n",
    "print(y_train.shape)"
   ]
  },
  {
   "cell_type": "markdown",
   "metadata": {
    "id": "JIG7hWAzQld_"
   },
   "source": [
    "## 히라가나 지우기"
   ]
  },
  {
   "cell_type": "code",
   "execution_count": null,
   "metadata": {
    "id": "Keg8U7UFQoDp"
   },
   "outputs": [],
   "source": [
    "hiragana = ['あ', 'い', 'う', 'え', 'お', 'か', 'き', 'く', 'け', 'こ', 'さ', 'し', 'す', 'せ', 'そ', 'た', 'ち', 'つ', 'て', 'と', 'な',\n",
    "            'に', 'ぬ', 'ね', 'の', 'は', 'ひ', 'ふ', 'へ', 'ほ', 'ま', 'み', 'む', 'め', 'も', 'や', 'ゆ', 'よ', 'ら', 'り', 'る', 'れ',\n",
    "            'ろ', 'わ', 'を', 'ん', 'ぎ', 'が', 'ぐ', 'げ', 'ご', 'ざ', 'じ', 'ず', 'ぜ', 'ぞ', 'だ', 'ぢ', 'づ', 'で', 'ど', 'ば', 'び',\n",
    "            'ぶ', 'べ', 'ぼ', 'ぱ', 'ぴ', 'ぷ', 'ぺ', 'ぽ', 'ゃ', 'ゅ', 'ょ', 'っ']"
   ]
  },
  {
   "cell_type": "code",
   "execution_count": null,
   "metadata": {
    "colab": {
     "base_uri": "https://localhost:8080/"
    },
    "executionInfo": {
     "elapsed": 519,
     "status": "ok",
     "timestamp": 1670323063287,
     "user": {
      "displayName": "‍이승건[학생](공과대학 산업경영공학과)",
      "userId": "07134745930762313936"
     },
     "user_tz": -540
    },
    "id": "wrcpFL73_osa",
    "outputId": "79d8ae75-1f94-4ba4-da0c-a3734fa1bd4f"
   },
   "outputs": [],
   "source": [
    "len(hiragana)"
   ]
  },
  {
   "cell_type": "code",
   "execution_count": null,
   "metadata": {
    "id": "88IMmUX-R0Ch"
   },
   "outputs": [],
   "source": [
    "add_hiragana_train = []\n",
    "for i in range(len(hiragana)):\n",
    "  add_hiragana_train = np.append(add_hiragana_train, np.where(y_train_char == hiragana[i]))"
   ]
  },
  {
   "cell_type": "code",
   "execution_count": null,
   "metadata": {
    "id": "iAY-82EX7gcC"
   },
   "outputs": [],
   "source": [
    "add_hiragana_train = add_hiragana_train.astype('int')"
   ]
  },
  {
   "cell_type": "code",
   "execution_count": null,
   "metadata": {
    "id": "1c3lb6mO1njp"
   },
   "outputs": [],
   "source": [
    "x_train = np.delete(x_train, add_hiragana_train, axis = 0)\n",
    "y_train = np.delete(y_train, add_hiragana_train, axis = 0)\n",
    "x_test = np.delete(x_test, np.s_[:3750], axis = 0)\n",
    "y_test = np.delete(y_test, np.s_[:3750], axis = 0)"
   ]
  },
  {
   "cell_type": "code",
   "execution_count": null,
   "metadata": {
    "id": "N_fiAJqlMJAF"
   },
   "outputs": [],
   "source": [
    "y_train_char = np.delete(y_train_char, add_hiragana_train, axis = 0)"
   ]
  },
  {
   "cell_type": "code",
   "execution_count": null,
   "metadata": {
    "colab": {
     "base_uri": "https://localhost:8080/"
    },
    "executionInfo": {
     "elapsed": 272,
     "status": "ok",
     "timestamp": 1670323242639,
     "user": {
      "displayName": "‍이승건[학생](공과대학 산업경영공학과)",
      "userId": "07134745930762313936"
     },
     "user_tz": -540
    },
    "id": "mfRcj7N31nc3",
    "outputId": "09690a2e-5c82-46ba-96b8-4f10751ae101"
   },
   "outputs": [],
   "source": [
    "print(x_train.shape)\n",
    "print(y_train.shape)\n",
    "print(x_test.shape)\n",
    "print(y_test.shape)"
   ]
  },
  {
   "cell_type": "markdown",
   "metadata": {
    "id": "1Z6OsnZTEFl1"
   },
   "source": [
    "## 바뀐 Y 인덱스 재정렬"
   ]
  },
  {
   "cell_type": "code",
   "execution_count": null,
   "metadata": {
    "colab": {
     "base_uri": "https://localhost:8080/"
    },
    "executionInfo": {
     "elapsed": 3,
     "status": "ok",
     "timestamp": 1670324357185,
     "user": {
      "displayName": "‍이승건[학생](공과대학 산업경영공학과)",
      "userId": "07134745930762313936"
     },
     "user_tz": -540
    },
    "id": "R43Xb0esEPyF",
    "outputId": "85d9172a-6c9b-4773-8366-d8eab7b3cd18"
   },
   "outputs": [],
   "source": [
    "len(np.unique(y_test))"
   ]
  },
  {
   "cell_type": "code",
   "execution_count": null,
   "metadata": {
    "id": "fkJ-HEaMEPs8"
   },
   "outputs": [],
   "source": [
    "k = 0\n",
    "y_unique = np.unique(y_test).copy()\n",
    "for j in range(len(y_unique)):\n",
    "    for i in range(len(y_test)):\n",
    "        if y_test[i] == y_unique[j]:\n",
    "            y_test[i] = k\n",
    "    for i in range(len(y_train)):\n",
    "        if y_train[i] == y_unique[j]:\n",
    "            y_train[i] = k\n",
    "    k += 1"
   ]
  },
  {
   "cell_type": "markdown",
   "metadata": {},
   "source": [
    "## 모델 저장"
   ]
  },
  {
   "cell_type": "code",
   "execution_count": null,
   "metadata": {
    "id": "QqTqngXdEHoz"
   },
   "outputs": [],
   "source": [
    "np.save('data/y_train.npy', x_train)\n",
    "np.save('data/y_test.npy', x_test)\n",
    "np.save('data/y_train.npy', y_train)\n",
    "np.save('data/y_test.npy', y_test)\n",
    "np.save('data/y_train_char.npy', y_train_char)"
   ]
  },
  {
   "cell_type": "markdown",
   "metadata": {
    "id": "ufG6CNEgK5Al"
   },
   "source": [
    "## 모델 학습"
   ]
  },
  {
   "cell_type": "code",
   "execution_count": null,
   "metadata": {
    "executionInfo": {
     "elapsed": 10870,
     "status": "ok",
     "timestamp": 1670338226004,
     "user": {
      "displayName": "‍이승건[학생](공과대학 산업경영공학과)",
      "userId": "07134745930762313936"
     },
     "user_tz": -540
    },
    "id": "gdEuoTwvN87u"
   },
   "outputs": [],
   "source": [
    "x_train = np.load('data/x_train.npy')\n",
    "y_train = np.load('data/y_train.npy')\n",
    "x_test = np.load('data/x_test.npy')\n",
    "y_test = np.load('data/y_test.npy')"
   ]
  },
  {
   "cell_type": "code",
   "execution_count": null,
   "metadata": {
    "colab": {
     "base_uri": "https://localhost:8080/"
    },
    "executionInfo": {
     "elapsed": 13,
     "status": "ok",
     "timestamp": 1670338226006,
     "user": {
      "displayName": "‍이승건[학생](공과대학 산업경영공학과)",
      "userId": "07134745930762313936"
     },
     "user_tz": -540
    },
    "id": "7IgS30rpN87v",
    "outputId": "e48687a0-5657-4373-c199-17cfe9590542"
   },
   "outputs": [],
   "source": [
    "print(x_train.shape)\n",
    "print(y_train.shape)\n",
    "print(x_test.shape)\n",
    "print(y_test.shape)"
   ]
  },
  {
   "cell_type": "code",
   "execution_count": null,
   "metadata": {
    "colab": {
     "base_uri": "https://localhost:8080/"
    },
    "executionInfo": {
     "elapsed": 7,
     "status": "ok",
     "timestamp": 1670324454959,
     "user": {
      "displayName": "‍이승건[학생](공과대학 산업경영공학과)",
      "userId": "07134745930762313936"
     },
     "user_tz": -540
    },
    "id": "zPdDqTKSDQUe",
    "outputId": "5888a3e8-4ad3-40bd-a62e-e8a8e1e04c17"
   },
   "outputs": [],
   "source": [
    "len(np.unique(y_test))"
   ]
  },
  {
   "cell_type": "code",
   "execution_count": null,
   "metadata": {
    "executionInfo": {
     "elapsed": 566,
     "status": "ok",
     "timestamp": 1670338232542,
     "user": {
      "displayName": "‍이승건[학생](공과대학 산업경영공학과)",
      "userId": "07134745930762313936"
     },
     "user_tz": -540
    },
    "id": "PTp6z1Sy9_UY"
   },
   "outputs": [],
   "source": [
    "num_classes = 881; epochs = 20; batch_size = 128\n",
    "learning_rate = 0.001;"
   ]
  },
  {
   "cell_type": "code",
   "execution_count": null,
   "metadata": {
    "executionInfo": {
     "elapsed": 3,
     "status": "ok",
     "timestamp": 1670338233320,
     "user": {
      "displayName": "‍이승건[학생](공과대학 산업경영공학과)",
      "userId": "07134745930762313936"
     },
     "user_tz": -540
    },
    "id": "IFMx4v5m9yAC"
   },
   "outputs": [],
   "source": [
    "img_rows, img_cols = 127, 128"
   ]
  },
  {
   "cell_type": "code",
   "execution_count": null,
   "metadata": {
    "executionInfo": {
     "elapsed": 1,
     "status": "ok",
     "timestamp": 1670338234487,
     "user": {
      "displayName": "‍이승건[학생](공과대학 산업경영공학과)",
      "userId": "07134745930762313936"
     },
     "user_tz": -540
    },
    "id": "W1oKo2CN9wvF"
   },
   "outputs": [],
   "source": [
    "input_shape = (img_rows, img_cols, 1)\n",
    "x_train = x_train.reshape(x_train.shape[0], img_rows, img_cols, 1)\n",
    "x_test = x_test.reshape(x_test.shape[0], img_rows, img_cols, 1)"
   ]
  },
  {
   "cell_type": "markdown",
   "metadata": {},
   "source": [
    "### 메모리 문제로 정규화 진행하지 않음"
   ]
  },
  {
   "cell_type": "code",
   "execution_count": null,
   "metadata": {
    "colab": {
     "base_uri": "https://localhost:8080/"
    },
    "executionInfo": {
     "elapsed": 15503,
     "status": "ok",
     "timestamp": 1670202097119,
     "user": {
      "displayName": "‍이승건[학생](공과대학 산업경영공학과)",
      "userId": "07134745930762313936"
     },
     "user_tz": -540
    },
    "id": "r_cIzeUE94Ss",
    "outputId": "c2791f67-84fd-4148-db80-19b080c211ca"
   },
   "outputs": [],
   "source": [
    "#정규화 하면 너무 크기가 커지는듯\n",
    "# x_train = x_train.astype('float32')\n",
    "# x_test = x_test.astype('float32')\n",
    "# x_train /= 255\n",
    "# x_test /= 255\n",
    "\n",
    "# print('x_train shape:', x_train.shape)\n",
    "# print(x_train.shape[0], 'train samples')\n",
    "# print(x_test.shape[0], 'test samples')"
   ]
  },
  {
   "cell_type": "code",
   "execution_count": null,
   "metadata": {
    "executionInfo": {
     "elapsed": 4,
     "status": "ok",
     "timestamp": 1670338243734,
     "user": {
      "displayName": "‍이승건[학생](공과대학 산업경영공학과)",
      "userId": "07134745930762313936"
     },
     "user_tz": -540
    },
    "id": "GW2AMAc4-Aa4"
   },
   "outputs": [],
   "source": [
    "y_train = tf.keras.utils.to_categorical(y_train, num_classes)\n",
    "y_test = tf.keras.utils.to_categorical(y_test, num_classes)"
   ]
  },
  {
   "cell_type": "code",
   "execution_count": null,
   "metadata": {
    "colab": {
     "base_uri": "https://localhost:8080/"
    },
    "executionInfo": {
     "elapsed": 2026803,
     "status": "ok",
     "timestamp": 1670340272446,
     "user": {
      "displayName": "‍이승건[학생](공과대학 산업경영공학과)",
      "userId": "07134745930762313936"
     },
     "user_tz": -540
    },
    "id": "BuW5x4V2Oesr",
    "outputId": "22741cd1-7d60-41c2-96d4-1523b54a6f67"
   },
   "outputs": [],
   "source": [
    "with tf.device('/device:GPU:0'):\n",
    "  model = tf.keras.Sequential()\n",
    "\n",
    "  model.add(layers.Conv2D(16, (3, 3), activation='relu', input_shape = input_shape))\n",
    "  model.add(layers.Conv2D(32, (3, 3), activation='relu'))\n",
    "  model.add(layers.MaxPooling2D((2, 2)))\n",
    "  model.add(Dropout(0.25))\n",
    "\n",
    "  model.add(layers.Conv2D(64, (3, 3), activation='relu'))\n",
    "  model.add(layers.MaxPooling2D((2, 2)))\n",
    "  model.add(Dropout(0.25))\n",
    "\n",
    "  model.add(layers.Conv2D(128, (3, 3), activation='relu'))\n",
    "  model.add(Dropout(0.25))\n",
    "  \n",
    "  model.add(layers.Flatten())\n",
    "\n",
    "  model.add(layers.Dense(2048, activation = 'relu'))\n",
    "  model.add(Dropout(0.25))\n",
    "\n",
    "  model.add(layers.Dense(1024, activation = 'relu'))\n",
    "\n",
    "  model.add(layers.Dense(num_classes, activation = 'softmax'))\n",
    "\n",
    "  model.compile(loss = tf.keras.losses.categorical_crossentropy,\n",
    "                optimizer = tf.keras.optimizers.Adam(learning_rate = learning_rate),\n",
    "                metrics = ['accuracy'])\n",
    "  early_stop = tf.keras.callbacks.EarlyStopping(monitor='val_loss', patience = 5)\n",
    "  hist = model.fit(x_train, y_train,\n",
    "                  batch_size = batch_size, epochs = epochs,\n",
    "                  validation_split = 0.2, callbacks = [early_stop]\n",
    "                  )\n",
    "\n",
    "  score = model.evaluate(x_test, y_test, verbose=1)\n",
    "\n",
    "  print(' - test_loss:', score[0], ' - test_acc:', score[1])\n",
    "  #model.save(\"cnn_japanese.h5\")"
   ]
  },
  {
   "cell_type": "markdown",
   "metadata": {},
   "source": [
    "### 모델 저장"
   ]
  },
  {
   "cell_type": "code",
   "execution_count": null,
   "metadata": {
    "executionInfo": {
     "elapsed": 13666,
     "status": "ok",
     "timestamp": 1670340362488,
     "user": {
      "displayName": "‍이승건[학생](공과대학 산업경영공학과)",
      "userId": "07134745930762313936"
     },
     "user_tz": -540
    },
    "id": "SO_nRRi1RJUi"
   },
   "outputs": [],
   "source": [
    "model.save(\"model/cnn_japanese_96_19.h5\")"
   ]
  },
  {
   "cell_type": "markdown",
   "metadata": {},
   "source": [
    "### 모델 확인"
   ]
  },
  {
   "cell_type": "code",
   "execution_count": null,
   "metadata": {
    "colab": {
     "base_uri": "https://localhost:8080/"
    },
    "executionInfo": {
     "elapsed": 515,
     "status": "ok",
     "timestamp": 1670340366885,
     "user": {
      "displayName": "‍이승건[학생](공과대학 산업경영공학과)",
      "userId": "07134745930762313936"
     },
     "user_tz": -540
    },
    "id": "FVYt5ZFUOk01",
    "outputId": "09fb06af-634d-41ee-8734-5a808f87bb38"
   },
   "outputs": [],
   "source": [
    "model.summary()"
   ]
  },
  {
   "cell_type": "code",
   "execution_count": null,
   "metadata": {
    "colab": {
     "base_uri": "https://localhost:8080/",
     "height": 334
    },
    "executionInfo": {
     "elapsed": 718,
     "status": "ok",
     "timestamp": 1670340382679,
     "user": {
      "displayName": "‍이승건[학생](공과대학 산업경영공학과)",
      "userId": "07134745930762313936"
     },
     "user_tz": -540
    },
    "id": "Rl7YvbSpSYtz",
    "outputId": "c8d315bc-c7fd-4607-b235-6e481d18595e"
   },
   "outputs": [],
   "source": [
    "import matplotlib.pyplot as plt\n",
    "\n",
    "fig, loss_ax = plt.subplots(figsize = (15,5))\n",
    "acc_ax = loss_ax.twinx()\n",
    "\n",
    "loss_ax.plot(hist.history['loss'], 'y', label = 'train loss')\n",
    "loss_ax.plot(hist.history['val_loss'], 'r', label = 'val loss')\n",
    "acc_ax.plot(hist.history['accuracy'], 'b', label = 'train acc')\n",
    "acc_ax.plot(hist.history['val_accuracy'], 'g', label = 'val acc')\n",
    "\n",
    "loss_ax.set_xlabel('epoch')\n",
    "loss_ax.set_ylabel('loss')\n",
    "acc_ax.set_ylabel('accuracy')\n",
    "loss_ax.legend(loc='upper left')\n",
    "acc_ax.legend(loc='lower left')\n",
    "\n",
    "plt.show()"
   ]
  },
  {
   "cell_type": "code",
   "execution_count": null,
   "metadata": {
    "id": "eN3DmGjdR07o"
   },
   "outputs": [],
   "source": []
  }
 ],
 "metadata": {
  "accelerator": "GPU",
  "colab": {
   "collapsed_sections": [
    "SDYgZ1IBhXT-",
    "prF_K7NNiMI_",
    "FSSiSKl4yEQG",
    "qHFKFka0daPR",
    "s78oFhN2Vtks",
    "CmxtVV6JWgsG",
    "YAMuxHnleSUc",
    "oXdsWPhQh2ax",
    "2A4SUn_u22e_",
    "Iai5mQdkCde5",
    "JIG7hWAzQld_",
    "1Z6OsnZTEFl1"
   ],
   "provenance": [
    {
     "file_id": "https://github.com/ichisadashioko/etlcdb/blob/master/inspect-etl8g.ipynb",
     "timestamp": 1669702266320
    }
   ]
  },
  "gpuClass": "standard",
  "kernelspec": {
   "display_name": "Python 3 (ipykernel)",
   "language": "python",
   "name": "python3"
  },
  "language_info": {
   "codemirror_mode": {
    "name": "ipython",
    "version": 3
   },
   "file_extension": ".py",
   "mimetype": "text/x-python",
   "name": "python",
   "nbconvert_exporter": "python",
   "pygments_lexer": "ipython3",
   "version": "3.9.12"
  }
 },
 "nbformat": 4,
 "nbformat_minor": 1
}
